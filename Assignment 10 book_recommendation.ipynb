{
 "cells": [
  {
   "cell_type": "markdown",
   "metadata": {
    "id": "oygd9x7q2gRB"
   },
   "source": [
    "# Assignment 10 book_recommendation"
   ]
  },
  {
   "cell_type": "code",
   "execution_count": 1,
   "metadata": {},
   "outputs": [],
   "source": [
    "import pandas as pd\n",
    "import numpy as np"
   ]
  },
  {
   "cell_type": "code",
   "execution_count": 2,
   "metadata": {
    "id": "EJTCCm0Z3VLF"
   },
   "outputs": [],
   "source": [
    "df=pd.read_csv('books.csv', encoding='latin-1')"
   ]
  },
  {
   "cell_type": "code",
   "execution_count": 3,
   "metadata": {
    "colab": {
     "base_uri": "https://localhost:8080/",
     "height": 205
    },
    "id": "2My8vlrzZEhG",
    "outputId": "2a4b862a-95b7-4b44-b209-2cf314791169"
   },
   "outputs": [
    {
     "data": {
      "text/html": [
       "<div>\n",
       "<style scoped>\n",
       "    .dataframe tbody tr th:only-of-type {\n",
       "        vertical-align: middle;\n",
       "    }\n",
       "\n",
       "    .dataframe tbody tr th {\n",
       "        vertical-align: top;\n",
       "    }\n",
       "\n",
       "    .dataframe thead th {\n",
       "        text-align: right;\n",
       "    }\n",
       "</style>\n",
       "<table border=\"1\" class=\"dataframe\">\n",
       "  <thead>\n",
       "    <tr style=\"text-align: right;\">\n",
       "      <th></th>\n",
       "      <th>Unnamed: 0</th>\n",
       "      <th>User.ID</th>\n",
       "      <th>Book.Title</th>\n",
       "      <th>Book.Rating</th>\n",
       "    </tr>\n",
       "  </thead>\n",
       "  <tbody>\n",
       "    <tr>\n",
       "      <th>0</th>\n",
       "      <td>1</td>\n",
       "      <td>276726</td>\n",
       "      <td>Classical Mythology</td>\n",
       "      <td>5</td>\n",
       "    </tr>\n",
       "    <tr>\n",
       "      <th>1</th>\n",
       "      <td>2</td>\n",
       "      <td>276729</td>\n",
       "      <td>Clara Callan</td>\n",
       "      <td>3</td>\n",
       "    </tr>\n",
       "    <tr>\n",
       "      <th>2</th>\n",
       "      <td>3</td>\n",
       "      <td>276729</td>\n",
       "      <td>Decision in Normandy</td>\n",
       "      <td>6</td>\n",
       "    </tr>\n",
       "    <tr>\n",
       "      <th>3</th>\n",
       "      <td>4</td>\n",
       "      <td>276736</td>\n",
       "      <td>Flu: The Story of the Great Influenza Pandemic...</td>\n",
       "      <td>8</td>\n",
       "    </tr>\n",
       "    <tr>\n",
       "      <th>4</th>\n",
       "      <td>5</td>\n",
       "      <td>276737</td>\n",
       "      <td>The Mummies of Urumchi</td>\n",
       "      <td>6</td>\n",
       "    </tr>\n",
       "  </tbody>\n",
       "</table>\n",
       "</div>"
      ],
      "text/plain": [
       "   Unnamed: 0  User.ID                                         Book.Title  \\\n",
       "0           1   276726                                Classical Mythology   \n",
       "1           2   276729                                       Clara Callan   \n",
       "2           3   276729                               Decision in Normandy   \n",
       "3           4   276736  Flu: The Story of the Great Influenza Pandemic...   \n",
       "4           5   276737                             The Mummies of Urumchi   \n",
       "\n",
       "   Book.Rating  \n",
       "0            5  \n",
       "1            3  \n",
       "2            6  \n",
       "3            8  \n",
       "4            6  "
      ]
     },
     "execution_count": 3,
     "metadata": {},
     "output_type": "execute_result"
    }
   ],
   "source": [
    "df.head()"
   ]
  },
  {
   "cell_type": "code",
   "execution_count": 4,
   "metadata": {
    "id": "DNzqlkJSsCgH"
   },
   "outputs": [],
   "source": [
    "df.rename(columns={\"User.ID\":\"user_id\",\"Book.Title\":\"book_title\",\"Book.Rating\":\"book_rating\"},inplace=True)"
   ]
  },
  {
   "cell_type": "code",
   "execution_count": 5,
   "metadata": {
    "colab": {
     "base_uri": "https://localhost:8080/"
    },
    "id": "gBz_1Ri8lHYy",
    "outputId": "a9dd9a22-85d8-4259-c53a-84c6b10ab638"
   },
   "outputs": [
    {
     "name": "stdout",
     "output_type": "stream",
     "text": [
      "<class 'pandas.core.frame.DataFrame'>\n",
      "RangeIndex: 10000 entries, 0 to 9999\n",
      "Data columns (total 4 columns):\n",
      " #   Column       Non-Null Count  Dtype \n",
      "---  ------       --------------  ----- \n",
      " 0   Unnamed: 0   10000 non-null  int64 \n",
      " 1   user_id      10000 non-null  int64 \n",
      " 2   book_title   10000 non-null  object\n",
      " 3   book_rating  10000 non-null  int64 \n",
      "dtypes: int64(3), object(1)\n",
      "memory usage: 312.6+ KB\n"
     ]
    }
   ],
   "source": [
    "df.info()"
   ]
  },
  {
   "cell_type": "code",
   "execution_count": 6,
   "metadata": {
    "colab": {
     "base_uri": "https://localhost:8080/"
    },
    "id": "aI-Gjvy-lJde",
    "outputId": "e8e93964-d4b1-4085-99e1-c9399b342cee"
   },
   "outputs": [
    {
     "data": {
      "text/plain": [
       "Unnamed: 0     0\n",
       "user_id        0\n",
       "book_title     0\n",
       "book_rating    0\n",
       "dtype: int64"
      ]
     },
     "execution_count": 6,
     "metadata": {},
     "output_type": "execute_result"
    }
   ],
   "source": [
    "df.isnull().sum()"
   ]
  },
  {
   "cell_type": "code",
   "execution_count": 7,
   "metadata": {
    "colab": {
     "base_uri": "https://localhost:8080/"
    },
    "id": "rLrtLQcPvt-x",
    "outputId": "04d0f77a-2eba-41b0-93a4-589ca2855acb"
   },
   "outputs": [
    {
     "data": {
      "text/plain": [
       "0"
      ]
     },
     "execution_count": 7,
     "metadata": {},
     "output_type": "execute_result"
    }
   ],
   "source": [
    "df.duplicated().sum()"
   ]
  },
  {
   "cell_type": "code",
   "execution_count": 8,
   "metadata": {
    "id": "34zRfBAPlQU_"
   },
   "outputs": [],
   "source": [
    "book=df.iloc[:,1:]"
   ]
  },
  {
   "cell_type": "code",
   "execution_count": 9,
   "metadata": {
    "colab": {
     "base_uri": "https://localhost:8080/",
     "height": 142
    },
    "id": "Ww-clIhQloSl",
    "outputId": "4e023fba-edb6-4698-9cbe-bebb06de983c"
   },
   "outputs": [
    {
     "data": {
      "text/html": [
       "<div>\n",
       "<style scoped>\n",
       "    .dataframe tbody tr th:only-of-type {\n",
       "        vertical-align: middle;\n",
       "    }\n",
       "\n",
       "    .dataframe tbody tr th {\n",
       "        vertical-align: top;\n",
       "    }\n",
       "\n",
       "    .dataframe thead th {\n",
       "        text-align: right;\n",
       "    }\n",
       "</style>\n",
       "<table border=\"1\" class=\"dataframe\">\n",
       "  <thead>\n",
       "    <tr style=\"text-align: right;\">\n",
       "      <th></th>\n",
       "      <th>user_id</th>\n",
       "      <th>book_title</th>\n",
       "      <th>book_rating</th>\n",
       "    </tr>\n",
       "  </thead>\n",
       "  <tbody>\n",
       "    <tr>\n",
       "      <th>0</th>\n",
       "      <td>276726</td>\n",
       "      <td>Classical Mythology</td>\n",
       "      <td>5</td>\n",
       "    </tr>\n",
       "    <tr>\n",
       "      <th>1</th>\n",
       "      <td>276729</td>\n",
       "      <td>Clara Callan</td>\n",
       "      <td>3</td>\n",
       "    </tr>\n",
       "    <tr>\n",
       "      <th>2</th>\n",
       "      <td>276729</td>\n",
       "      <td>Decision in Normandy</td>\n",
       "      <td>6</td>\n",
       "    </tr>\n",
       "  </tbody>\n",
       "</table>\n",
       "</div>"
      ],
      "text/plain": [
       "   user_id            book_title  book_rating\n",
       "0   276726   Classical Mythology            5\n",
       "1   276729          Clara Callan            3\n",
       "2   276729  Decision in Normandy            6"
      ]
     },
     "execution_count": 9,
     "metadata": {},
     "output_type": "execute_result"
    }
   ],
   "source": [
    "book.head(3)"
   ]
  },
  {
   "cell_type": "code",
   "execution_count": 10,
   "metadata": {
    "colab": {
     "base_uri": "https://localhost:8080/"
    },
    "id": "hrRUbpG-re43",
    "outputId": "9bf39eb6-559f-4653-d61b-5862fe7d5e91"
   },
   "outputs": [
    {
     "data": {
      "text/plain": [
       "2182"
      ]
     },
     "execution_count": 10,
     "metadata": {},
     "output_type": "execute_result"
    }
   ],
   "source": [
    "len(book['user_id'].unique())\n",
    "  \n"
   ]
  },
  {
   "cell_type": "code",
   "execution_count": 11,
   "metadata": {
    "colab": {
     "base_uri": "https://localhost:8080/"
    },
    "id": "XnaYTi1MspPb",
    "outputId": "4cbdb218-4c63-465a-b3d9-b9713f83f5e6"
   },
   "outputs": [
    {
     "data": {
      "text/plain": [
       "9659"
      ]
     },
     "execution_count": 11,
     "metadata": {},
     "output_type": "execute_result"
    }
   ],
   "source": [
    "len(book.book_title.unique())"
   ]
  },
  {
   "cell_type": "code",
   "execution_count": 12,
   "metadata": {
    "colab": {
     "base_uri": "https://localhost:8080/",
     "height": 535
    },
    "id": "wKlMxl8A3JbV",
    "outputId": "90b662d9-3b8f-4e22-ecf5-69c80e9d66a9"
   },
   "outputs": [
    {
     "data": {
      "text/html": [
       "<div>\n",
       "<style scoped>\n",
       "    .dataframe tbody tr th:only-of-type {\n",
       "        vertical-align: middle;\n",
       "    }\n",
       "\n",
       "    .dataframe tbody tr th {\n",
       "        vertical-align: top;\n",
       "    }\n",
       "\n",
       "    .dataframe thead th {\n",
       "        text-align: right;\n",
       "    }\n",
       "</style>\n",
       "<table border=\"1\" class=\"dataframe\">\n",
       "  <thead>\n",
       "    <tr style=\"text-align: right;\">\n",
       "      <th>book_title</th>\n",
       "      <th>Jason, Madison &amp;amp</th>\n",
       "      <th>Other Stories;Merril;1985;McClelland &amp;amp</th>\n",
       "      <th>Repairing PC Drives &amp;amp</th>\n",
       "      <th>'48</th>\n",
       "      <th>'O Au No Keia: Voices from Hawai'I's Mahu and Transgender Communities</th>\n",
       "      <th>...AND THE HORSE HE RODE IN ON : THE PEOPLE V. KENNETH STARR</th>\n",
       "      <th>01-01-00: A Novel of the Millennium</th>\n",
       "      <th>1,401 More Things That P*Ss Me Off</th>\n",
       "      <th>10 Commandments Of Dating</th>\n",
       "      <th>100 Great Fantasy Short, Short Stories</th>\n",
       "      <th>...</th>\n",
       "      <th>Zora Hurston and the Chinaberry Tree (Reading Rainbow Book)</th>\n",
       "      <th>\\Even Monkeys Fall from Trees\\ and Other Japanese Proverbs</th>\n",
       "      <th>\\I Won't Learn from You\\: And Other Thoughts on Creative Maladjustment</th>\n",
       "      <th>\\More More More,\\ Said the Baby</th>\n",
       "      <th>\\O\\ Is for Outlaw</th>\n",
       "      <th>\\Surely You're Joking, Mr. Feynman!\\: Adventures of a Curious Character</th>\n",
       "      <th>\\Well, there's your problem\\: Cartoons</th>\n",
       "      <th>iI Paradiso Degli Orchi</th>\n",
       "      <th>stardust</th>\n",
       "      <th>Ã?Â?bermorgen.</th>\n",
       "    </tr>\n",
       "    <tr>\n",
       "      <th>user_id</th>\n",
       "      <th></th>\n",
       "      <th></th>\n",
       "      <th></th>\n",
       "      <th></th>\n",
       "      <th></th>\n",
       "      <th></th>\n",
       "      <th></th>\n",
       "      <th></th>\n",
       "      <th></th>\n",
       "      <th></th>\n",
       "      <th></th>\n",
       "      <th></th>\n",
       "      <th></th>\n",
       "      <th></th>\n",
       "      <th></th>\n",
       "      <th></th>\n",
       "      <th></th>\n",
       "      <th></th>\n",
       "      <th></th>\n",
       "      <th></th>\n",
       "      <th></th>\n",
       "    </tr>\n",
       "  </thead>\n",
       "  <tbody>\n",
       "    <tr>\n",
       "      <th>8</th>\n",
       "      <td>NaN</td>\n",
       "      <td>NaN</td>\n",
       "      <td>NaN</td>\n",
       "      <td>NaN</td>\n",
       "      <td>NaN</td>\n",
       "      <td>NaN</td>\n",
       "      <td>NaN</td>\n",
       "      <td>NaN</td>\n",
       "      <td>NaN</td>\n",
       "      <td>NaN</td>\n",
       "      <td>...</td>\n",
       "      <td>NaN</td>\n",
       "      <td>NaN</td>\n",
       "      <td>NaN</td>\n",
       "      <td>NaN</td>\n",
       "      <td>NaN</td>\n",
       "      <td>NaN</td>\n",
       "      <td>NaN</td>\n",
       "      <td>NaN</td>\n",
       "      <td>NaN</td>\n",
       "      <td>NaN</td>\n",
       "    </tr>\n",
       "    <tr>\n",
       "      <th>9</th>\n",
       "      <td>NaN</td>\n",
       "      <td>NaN</td>\n",
       "      <td>NaN</td>\n",
       "      <td>NaN</td>\n",
       "      <td>NaN</td>\n",
       "      <td>NaN</td>\n",
       "      <td>NaN</td>\n",
       "      <td>NaN</td>\n",
       "      <td>NaN</td>\n",
       "      <td>NaN</td>\n",
       "      <td>...</td>\n",
       "      <td>NaN</td>\n",
       "      <td>NaN</td>\n",
       "      <td>NaN</td>\n",
       "      <td>NaN</td>\n",
       "      <td>NaN</td>\n",
       "      <td>NaN</td>\n",
       "      <td>NaN</td>\n",
       "      <td>NaN</td>\n",
       "      <td>NaN</td>\n",
       "      <td>NaN</td>\n",
       "    </tr>\n",
       "    <tr>\n",
       "      <th>10</th>\n",
       "      <td>NaN</td>\n",
       "      <td>NaN</td>\n",
       "      <td>NaN</td>\n",
       "      <td>NaN</td>\n",
       "      <td>NaN</td>\n",
       "      <td>NaN</td>\n",
       "      <td>NaN</td>\n",
       "      <td>NaN</td>\n",
       "      <td>NaN</td>\n",
       "      <td>NaN</td>\n",
       "      <td>...</td>\n",
       "      <td>NaN</td>\n",
       "      <td>NaN</td>\n",
       "      <td>NaN</td>\n",
       "      <td>NaN</td>\n",
       "      <td>NaN</td>\n",
       "      <td>NaN</td>\n",
       "      <td>NaN</td>\n",
       "      <td>NaN</td>\n",
       "      <td>NaN</td>\n",
       "      <td>NaN</td>\n",
       "    </tr>\n",
       "    <tr>\n",
       "      <th>12</th>\n",
       "      <td>NaN</td>\n",
       "      <td>NaN</td>\n",
       "      <td>NaN</td>\n",
       "      <td>NaN</td>\n",
       "      <td>NaN</td>\n",
       "      <td>NaN</td>\n",
       "      <td>NaN</td>\n",
       "      <td>NaN</td>\n",
       "      <td>NaN</td>\n",
       "      <td>NaN</td>\n",
       "      <td>...</td>\n",
       "      <td>NaN</td>\n",
       "      <td>NaN</td>\n",
       "      <td>NaN</td>\n",
       "      <td>NaN</td>\n",
       "      <td>NaN</td>\n",
       "      <td>NaN</td>\n",
       "      <td>NaN</td>\n",
       "      <td>NaN</td>\n",
       "      <td>NaN</td>\n",
       "      <td>NaN</td>\n",
       "    </tr>\n",
       "    <tr>\n",
       "      <th>14</th>\n",
       "      <td>NaN</td>\n",
       "      <td>NaN</td>\n",
       "      <td>NaN</td>\n",
       "      <td>NaN</td>\n",
       "      <td>NaN</td>\n",
       "      <td>NaN</td>\n",
       "      <td>NaN</td>\n",
       "      <td>NaN</td>\n",
       "      <td>NaN</td>\n",
       "      <td>NaN</td>\n",
       "      <td>...</td>\n",
       "      <td>NaN</td>\n",
       "      <td>NaN</td>\n",
       "      <td>NaN</td>\n",
       "      <td>NaN</td>\n",
       "      <td>NaN</td>\n",
       "      <td>NaN</td>\n",
       "      <td>NaN</td>\n",
       "      <td>NaN</td>\n",
       "      <td>NaN</td>\n",
       "      <td>NaN</td>\n",
       "    </tr>\n",
       "  </tbody>\n",
       "</table>\n",
       "<p>5 rows × 9659 columns</p>\n",
       "</div>"
      ],
      "text/plain": [
       "book_title   Jason, Madison &amp   Other Stories;Merril;1985;McClelland &amp  \\\n",
       "user_id                                                                        \n",
       "8                            NaN                                         NaN   \n",
       "9                            NaN                                         NaN   \n",
       "10                           NaN                                         NaN   \n",
       "12                           NaN                                         NaN   \n",
       "14                           NaN                                         NaN   \n",
       "\n",
       "book_title   Repairing PC Drives &amp  '48  \\\n",
       "user_id                                      \n",
       "8                                 NaN  NaN   \n",
       "9                                 NaN  NaN   \n",
       "10                                NaN  NaN   \n",
       "12                                NaN  NaN   \n",
       "14                                NaN  NaN   \n",
       "\n",
       "book_title  'O Au No Keia: Voices from Hawai'I's Mahu and Transgender Communities  \\\n",
       "user_id                                                                             \n",
       "8                                                         NaN                       \n",
       "9                                                         NaN                       \n",
       "10                                                        NaN                       \n",
       "12                                                        NaN                       \n",
       "14                                                        NaN                       \n",
       "\n",
       "book_title  ...AND THE HORSE HE RODE IN ON : THE PEOPLE V. KENNETH STARR  \\\n",
       "user_id                                                                    \n",
       "8                                                         NaN              \n",
       "9                                                         NaN              \n",
       "10                                                        NaN              \n",
       "12                                                        NaN              \n",
       "14                                                        NaN              \n",
       "\n",
       "book_title  01-01-00: A Novel of the Millennium  \\\n",
       "user_id                                           \n",
       "8                                           NaN   \n",
       "9                                           NaN   \n",
       "10                                          NaN   \n",
       "12                                          NaN   \n",
       "14                                          NaN   \n",
       "\n",
       "book_title  1,401 More Things That P*Ss Me Off  10 Commandments Of Dating  \\\n",
       "user_id                                                                     \n",
       "8                                          NaN                        NaN   \n",
       "9                                          NaN                        NaN   \n",
       "10                                         NaN                        NaN   \n",
       "12                                         NaN                        NaN   \n",
       "14                                         NaN                        NaN   \n",
       "\n",
       "book_title  100 Great Fantasy Short, Short Stories  ...  \\\n",
       "user_id                                             ...   \n",
       "8                                              NaN  ...   \n",
       "9                                              NaN  ...   \n",
       "10                                             NaN  ...   \n",
       "12                                             NaN  ...   \n",
       "14                                             NaN  ...   \n",
       "\n",
       "book_title  Zora Hurston and the Chinaberry Tree (Reading Rainbow Book)  \\\n",
       "user_id                                                                   \n",
       "8                                                         NaN             \n",
       "9                                                         NaN             \n",
       "10                                                        NaN             \n",
       "12                                                        NaN             \n",
       "14                                                        NaN             \n",
       "\n",
       "book_title  \\Even Monkeys Fall from Trees\\ and Other Japanese Proverbs  \\\n",
       "user_id                                                                  \n",
       "8                                                         NaN            \n",
       "9                                                         NaN            \n",
       "10                                                        NaN            \n",
       "12                                                        NaN            \n",
       "14                                                        NaN            \n",
       "\n",
       "book_title  \\I Won't Learn from You\\: And Other Thoughts on Creative Maladjustment  \\\n",
       "user_id                                                                              \n",
       "8                                                         NaN                        \n",
       "9                                                         NaN                        \n",
       "10                                                        NaN                        \n",
       "12                                                        NaN                        \n",
       "14                                                        NaN                        \n",
       "\n",
       "book_title  \\More More More,\\ Said the Baby  \\O\\ Is for Outlaw  \\\n",
       "user_id                                                          \n",
       "8                                       NaN                NaN   \n",
       "9                                       NaN                NaN   \n",
       "10                                      NaN                NaN   \n",
       "12                                      NaN                NaN   \n",
       "14                                      NaN                NaN   \n",
       "\n",
       "book_title  \\Surely You're Joking, Mr. Feynman!\\: Adventures of a Curious Character  \\\n",
       "user_id                                                                               \n",
       "8                                                         NaN                         \n",
       "9                                                         NaN                         \n",
       "10                                                        NaN                         \n",
       "12                                                        NaN                         \n",
       "14                                                        NaN                         \n",
       "\n",
       "book_title  \\Well, there's your problem\\: Cartoons  iI Paradiso Degli Orchi  \\\n",
       "user_id                                                                       \n",
       "8                                              NaN                      NaN   \n",
       "9                                              NaN                      NaN   \n",
       "10                                             NaN                      NaN   \n",
       "12                                             NaN                      NaN   \n",
       "14                                             NaN                      NaN   \n",
       "\n",
       "book_title  stardust  Ã?Â?bermorgen.  \n",
       "user_id                               \n",
       "8                NaN             NaN  \n",
       "9                NaN             NaN  \n",
       "10               NaN             NaN  \n",
       "12               NaN             NaN  \n",
       "14               NaN             NaN  \n",
       "\n",
       "[5 rows x 9659 columns]"
      ]
     },
     "execution_count": 12,
     "metadata": {},
     "output_type": "execute_result"
    }
   ],
   "source": [
    "user_book = book.pivot_table(index='user_id',columns='book_title',values='book_rating')\n",
    "user_book.head()"
   ]
  },
  {
   "cell_type": "code",
   "execution_count": 13,
   "metadata": {
    "id": "e7NNCoA-3r_H"
   },
   "outputs": [],
   "source": [
    "#Impute those NaNs with 0 values\n",
    "user_book.fillna(0, inplace=True)"
   ]
  },
  {
   "cell_type": "code",
   "execution_count": 14,
   "metadata": {
    "colab": {
     "base_uri": "https://localhost:8080/",
     "height": 535
    },
    "id": "t19tjxpq311g",
    "outputId": "637ad8e7-c57d-42d0-e489-7a05f9383d8d"
   },
   "outputs": [
    {
     "data": {
      "text/html": [
       "<div>\n",
       "<style scoped>\n",
       "    .dataframe tbody tr th:only-of-type {\n",
       "        vertical-align: middle;\n",
       "    }\n",
       "\n",
       "    .dataframe tbody tr th {\n",
       "        vertical-align: top;\n",
       "    }\n",
       "\n",
       "    .dataframe thead th {\n",
       "        text-align: right;\n",
       "    }\n",
       "</style>\n",
       "<table border=\"1\" class=\"dataframe\">\n",
       "  <thead>\n",
       "    <tr style=\"text-align: right;\">\n",
       "      <th>book_title</th>\n",
       "      <th>Jason, Madison &amp;amp</th>\n",
       "      <th>Other Stories;Merril;1985;McClelland &amp;amp</th>\n",
       "      <th>Repairing PC Drives &amp;amp</th>\n",
       "      <th>'48</th>\n",
       "      <th>'O Au No Keia: Voices from Hawai'I's Mahu and Transgender Communities</th>\n",
       "      <th>...AND THE HORSE HE RODE IN ON : THE PEOPLE V. KENNETH STARR</th>\n",
       "      <th>01-01-00: A Novel of the Millennium</th>\n",
       "      <th>1,401 More Things That P*Ss Me Off</th>\n",
       "      <th>10 Commandments Of Dating</th>\n",
       "      <th>100 Great Fantasy Short, Short Stories</th>\n",
       "      <th>...</th>\n",
       "      <th>Zora Hurston and the Chinaberry Tree (Reading Rainbow Book)</th>\n",
       "      <th>\\Even Monkeys Fall from Trees\\ and Other Japanese Proverbs</th>\n",
       "      <th>\\I Won't Learn from You\\: And Other Thoughts on Creative Maladjustment</th>\n",
       "      <th>\\More More More,\\ Said the Baby</th>\n",
       "      <th>\\O\\ Is for Outlaw</th>\n",
       "      <th>\\Surely You're Joking, Mr. Feynman!\\: Adventures of a Curious Character</th>\n",
       "      <th>\\Well, there's your problem\\: Cartoons</th>\n",
       "      <th>iI Paradiso Degli Orchi</th>\n",
       "      <th>stardust</th>\n",
       "      <th>Ã?Â?bermorgen.</th>\n",
       "    </tr>\n",
       "    <tr>\n",
       "      <th>user_id</th>\n",
       "      <th></th>\n",
       "      <th></th>\n",
       "      <th></th>\n",
       "      <th></th>\n",
       "      <th></th>\n",
       "      <th></th>\n",
       "      <th></th>\n",
       "      <th></th>\n",
       "      <th></th>\n",
       "      <th></th>\n",
       "      <th></th>\n",
       "      <th></th>\n",
       "      <th></th>\n",
       "      <th></th>\n",
       "      <th></th>\n",
       "      <th></th>\n",
       "      <th></th>\n",
       "      <th></th>\n",
       "      <th></th>\n",
       "      <th></th>\n",
       "      <th></th>\n",
       "    </tr>\n",
       "  </thead>\n",
       "  <tbody>\n",
       "    <tr>\n",
       "      <th>8</th>\n",
       "      <td>0.0</td>\n",
       "      <td>0.0</td>\n",
       "      <td>0.0</td>\n",
       "      <td>0.0</td>\n",
       "      <td>0.0</td>\n",
       "      <td>0.0</td>\n",
       "      <td>0.0</td>\n",
       "      <td>0.0</td>\n",
       "      <td>0.0</td>\n",
       "      <td>0.0</td>\n",
       "      <td>...</td>\n",
       "      <td>0.0</td>\n",
       "      <td>0.0</td>\n",
       "      <td>0.0</td>\n",
       "      <td>0.0</td>\n",
       "      <td>0.0</td>\n",
       "      <td>0.0</td>\n",
       "      <td>0.0</td>\n",
       "      <td>0.0</td>\n",
       "      <td>0.0</td>\n",
       "      <td>0.0</td>\n",
       "    </tr>\n",
       "    <tr>\n",
       "      <th>9</th>\n",
       "      <td>0.0</td>\n",
       "      <td>0.0</td>\n",
       "      <td>0.0</td>\n",
       "      <td>0.0</td>\n",
       "      <td>0.0</td>\n",
       "      <td>0.0</td>\n",
       "      <td>0.0</td>\n",
       "      <td>0.0</td>\n",
       "      <td>0.0</td>\n",
       "      <td>0.0</td>\n",
       "      <td>...</td>\n",
       "      <td>0.0</td>\n",
       "      <td>0.0</td>\n",
       "      <td>0.0</td>\n",
       "      <td>0.0</td>\n",
       "      <td>0.0</td>\n",
       "      <td>0.0</td>\n",
       "      <td>0.0</td>\n",
       "      <td>0.0</td>\n",
       "      <td>0.0</td>\n",
       "      <td>0.0</td>\n",
       "    </tr>\n",
       "    <tr>\n",
       "      <th>10</th>\n",
       "      <td>0.0</td>\n",
       "      <td>0.0</td>\n",
       "      <td>0.0</td>\n",
       "      <td>0.0</td>\n",
       "      <td>0.0</td>\n",
       "      <td>0.0</td>\n",
       "      <td>0.0</td>\n",
       "      <td>0.0</td>\n",
       "      <td>0.0</td>\n",
       "      <td>0.0</td>\n",
       "      <td>...</td>\n",
       "      <td>0.0</td>\n",
       "      <td>0.0</td>\n",
       "      <td>0.0</td>\n",
       "      <td>0.0</td>\n",
       "      <td>0.0</td>\n",
       "      <td>0.0</td>\n",
       "      <td>0.0</td>\n",
       "      <td>0.0</td>\n",
       "      <td>0.0</td>\n",
       "      <td>0.0</td>\n",
       "    </tr>\n",
       "    <tr>\n",
       "      <th>12</th>\n",
       "      <td>0.0</td>\n",
       "      <td>0.0</td>\n",
       "      <td>0.0</td>\n",
       "      <td>0.0</td>\n",
       "      <td>0.0</td>\n",
       "      <td>0.0</td>\n",
       "      <td>0.0</td>\n",
       "      <td>0.0</td>\n",
       "      <td>0.0</td>\n",
       "      <td>0.0</td>\n",
       "      <td>...</td>\n",
       "      <td>0.0</td>\n",
       "      <td>0.0</td>\n",
       "      <td>0.0</td>\n",
       "      <td>0.0</td>\n",
       "      <td>0.0</td>\n",
       "      <td>0.0</td>\n",
       "      <td>0.0</td>\n",
       "      <td>0.0</td>\n",
       "      <td>0.0</td>\n",
       "      <td>0.0</td>\n",
       "    </tr>\n",
       "    <tr>\n",
       "      <th>14</th>\n",
       "      <td>0.0</td>\n",
       "      <td>0.0</td>\n",
       "      <td>0.0</td>\n",
       "      <td>0.0</td>\n",
       "      <td>0.0</td>\n",
       "      <td>0.0</td>\n",
       "      <td>0.0</td>\n",
       "      <td>0.0</td>\n",
       "      <td>0.0</td>\n",
       "      <td>0.0</td>\n",
       "      <td>...</td>\n",
       "      <td>0.0</td>\n",
       "      <td>0.0</td>\n",
       "      <td>0.0</td>\n",
       "      <td>0.0</td>\n",
       "      <td>0.0</td>\n",
       "      <td>0.0</td>\n",
       "      <td>0.0</td>\n",
       "      <td>0.0</td>\n",
       "      <td>0.0</td>\n",
       "      <td>0.0</td>\n",
       "    </tr>\n",
       "  </tbody>\n",
       "</table>\n",
       "<p>5 rows × 9659 columns</p>\n",
       "</div>"
      ],
      "text/plain": [
       "book_title   Jason, Madison &amp   Other Stories;Merril;1985;McClelland &amp  \\\n",
       "user_id                                                                        \n",
       "8                            0.0                                         0.0   \n",
       "9                            0.0                                         0.0   \n",
       "10                           0.0                                         0.0   \n",
       "12                           0.0                                         0.0   \n",
       "14                           0.0                                         0.0   \n",
       "\n",
       "book_title   Repairing PC Drives &amp  '48  \\\n",
       "user_id                                      \n",
       "8                                 0.0  0.0   \n",
       "9                                 0.0  0.0   \n",
       "10                                0.0  0.0   \n",
       "12                                0.0  0.0   \n",
       "14                                0.0  0.0   \n",
       "\n",
       "book_title  'O Au No Keia: Voices from Hawai'I's Mahu and Transgender Communities  \\\n",
       "user_id                                                                             \n",
       "8                                                         0.0                       \n",
       "9                                                         0.0                       \n",
       "10                                                        0.0                       \n",
       "12                                                        0.0                       \n",
       "14                                                        0.0                       \n",
       "\n",
       "book_title  ...AND THE HORSE HE RODE IN ON : THE PEOPLE V. KENNETH STARR  \\\n",
       "user_id                                                                    \n",
       "8                                                         0.0              \n",
       "9                                                         0.0              \n",
       "10                                                        0.0              \n",
       "12                                                        0.0              \n",
       "14                                                        0.0              \n",
       "\n",
       "book_title  01-01-00: A Novel of the Millennium  \\\n",
       "user_id                                           \n",
       "8                                           0.0   \n",
       "9                                           0.0   \n",
       "10                                          0.0   \n",
       "12                                          0.0   \n",
       "14                                          0.0   \n",
       "\n",
       "book_title  1,401 More Things That P*Ss Me Off  10 Commandments Of Dating  \\\n",
       "user_id                                                                     \n",
       "8                                          0.0                        0.0   \n",
       "9                                          0.0                        0.0   \n",
       "10                                         0.0                        0.0   \n",
       "12                                         0.0                        0.0   \n",
       "14                                         0.0                        0.0   \n",
       "\n",
       "book_title  100 Great Fantasy Short, Short Stories  ...  \\\n",
       "user_id                                             ...   \n",
       "8                                              0.0  ...   \n",
       "9                                              0.0  ...   \n",
       "10                                             0.0  ...   \n",
       "12                                             0.0  ...   \n",
       "14                                             0.0  ...   \n",
       "\n",
       "book_title  Zora Hurston and the Chinaberry Tree (Reading Rainbow Book)  \\\n",
       "user_id                                                                   \n",
       "8                                                         0.0             \n",
       "9                                                         0.0             \n",
       "10                                                        0.0             \n",
       "12                                                        0.0             \n",
       "14                                                        0.0             \n",
       "\n",
       "book_title  \\Even Monkeys Fall from Trees\\ and Other Japanese Proverbs  \\\n",
       "user_id                                                                  \n",
       "8                                                         0.0            \n",
       "9                                                         0.0            \n",
       "10                                                        0.0            \n",
       "12                                                        0.0            \n",
       "14                                                        0.0            \n",
       "\n",
       "book_title  \\I Won't Learn from You\\: And Other Thoughts on Creative Maladjustment  \\\n",
       "user_id                                                                              \n",
       "8                                                         0.0                        \n",
       "9                                                         0.0                        \n",
       "10                                                        0.0                        \n",
       "12                                                        0.0                        \n",
       "14                                                        0.0                        \n",
       "\n",
       "book_title  \\More More More,\\ Said the Baby  \\O\\ Is for Outlaw  \\\n",
       "user_id                                                          \n",
       "8                                       0.0                0.0   \n",
       "9                                       0.0                0.0   \n",
       "10                                      0.0                0.0   \n",
       "12                                      0.0                0.0   \n",
       "14                                      0.0                0.0   \n",
       "\n",
       "book_title  \\Surely You're Joking, Mr. Feynman!\\: Adventures of a Curious Character  \\\n",
       "user_id                                                                               \n",
       "8                                                         0.0                         \n",
       "9                                                         0.0                         \n",
       "10                                                        0.0                         \n",
       "12                                                        0.0                         \n",
       "14                                                        0.0                         \n",
       "\n",
       "book_title  \\Well, there's your problem\\: Cartoons  iI Paradiso Degli Orchi  \\\n",
       "user_id                                                                       \n",
       "8                                              0.0                      0.0   \n",
       "9                                              0.0                      0.0   \n",
       "10                                             0.0                      0.0   \n",
       "12                                             0.0                      0.0   \n",
       "14                                             0.0                      0.0   \n",
       "\n",
       "book_title  stardust  Ã?Â?bermorgen.  \n",
       "user_id                               \n",
       "8                0.0             0.0  \n",
       "9                0.0             0.0  \n",
       "10               0.0             0.0  \n",
       "12               0.0             0.0  \n",
       "14               0.0             0.0  \n",
       "\n",
       "[5 rows x 9659 columns]"
      ]
     },
     "execution_count": 14,
     "metadata": {},
     "output_type": "execute_result"
    }
   ],
   "source": [
    "user_book.head()"
   ]
  },
  {
   "cell_type": "code",
   "execution_count": 15,
   "metadata": {
    "id": "HHiFQHds36Js"
   },
   "outputs": [],
   "source": [
    "#Calculating Cosine Similarity between Users\n",
    "from sklearn.metrics import pairwise_distances\n",
    "from scipy.spatial.distance import cosine, correlation"
   ]
  },
  {
   "cell_type": "code",
   "execution_count": 16,
   "metadata": {
    "id": "jN9b8jIJ4tPI"
   },
   "outputs": [],
   "source": [
    "user_sim = 1 - pairwise_distances( user_book.values,metric='cosine')"
   ]
  },
  {
   "cell_type": "code",
   "execution_count": 17,
   "metadata": {
    "colab": {
     "base_uri": "https://localhost:8080/"
    },
    "id": "t6uHWfb841P-",
    "outputId": "d2a3a5da-61d3-4735-855b-9514ad4c4aad"
   },
   "outputs": [
    {
     "data": {
      "text/plain": [
       "array([[1., 0., 0., ..., 0., 0., 0.],\n",
       "       [0., 1., 0., ..., 0., 0., 0.],\n",
       "       [0., 0., 1., ..., 0., 0., 0.],\n",
       "       ...,\n",
       "       [0., 0., 0., ..., 1., 0., 0.],\n",
       "       [0., 0., 0., ..., 0., 1., 0.],\n",
       "       [0., 0., 0., ..., 0., 0., 1.]])"
      ]
     },
     "execution_count": 17,
     "metadata": {},
     "output_type": "execute_result"
    }
   ],
   "source": [
    "user_sim"
   ]
  },
  {
   "cell_type": "code",
   "execution_count": 18,
   "metadata": {
    "id": "DDyX6nSq441d"
   },
   "outputs": [],
   "source": [
    "#Store the results in a dataframe\n",
    "user_sim_df = pd.DataFrame(user_sim)\n"
   ]
  },
  {
   "cell_type": "code",
   "execution_count": 19,
   "metadata": {
    "id": "AUK2YLhY4_Vw"
   },
   "outputs": [],
   "source": [
    "#Set the index and column names to user ids \n",
    "user_sim_df.index = book.user_id.unique()\n",
    "user_sim_df.columns = book.user_id.unique()"
   ]
  },
  {
   "cell_type": "code",
   "execution_count": 20,
   "metadata": {
    "colab": {
     "base_uri": "https://localhost:8080/",
     "height": 205
    },
    "id": "l4NylDh35QKS",
    "outputId": "dbff4870-694b-4853-ad0b-45ea075fe807"
   },
   "outputs": [
    {
     "data": {
      "text/html": [
       "<div>\n",
       "<style scoped>\n",
       "    .dataframe tbody tr th:only-of-type {\n",
       "        vertical-align: middle;\n",
       "    }\n",
       "\n",
       "    .dataframe tbody tr th {\n",
       "        vertical-align: top;\n",
       "    }\n",
       "\n",
       "    .dataframe thead th {\n",
       "        text-align: right;\n",
       "    }\n",
       "</style>\n",
       "<table border=\"1\" class=\"dataframe\">\n",
       "  <thead>\n",
       "    <tr style=\"text-align: right;\">\n",
       "      <th></th>\n",
       "      <th>276726</th>\n",
       "      <th>276729</th>\n",
       "      <th>276736</th>\n",
       "      <th>276737</th>\n",
       "      <th>276744</th>\n",
       "    </tr>\n",
       "  </thead>\n",
       "  <tbody>\n",
       "    <tr>\n",
       "      <th>276726</th>\n",
       "      <td>1.0</td>\n",
       "      <td>0.0</td>\n",
       "      <td>0.0</td>\n",
       "      <td>0.0</td>\n",
       "      <td>0.0</td>\n",
       "    </tr>\n",
       "    <tr>\n",
       "      <th>276729</th>\n",
       "      <td>0.0</td>\n",
       "      <td>1.0</td>\n",
       "      <td>0.0</td>\n",
       "      <td>0.0</td>\n",
       "      <td>0.0</td>\n",
       "    </tr>\n",
       "    <tr>\n",
       "      <th>276736</th>\n",
       "      <td>0.0</td>\n",
       "      <td>0.0</td>\n",
       "      <td>1.0</td>\n",
       "      <td>0.0</td>\n",
       "      <td>0.0</td>\n",
       "    </tr>\n",
       "    <tr>\n",
       "      <th>276737</th>\n",
       "      <td>0.0</td>\n",
       "      <td>0.0</td>\n",
       "      <td>0.0</td>\n",
       "      <td>1.0</td>\n",
       "      <td>0.0</td>\n",
       "    </tr>\n",
       "    <tr>\n",
       "      <th>276744</th>\n",
       "      <td>0.0</td>\n",
       "      <td>0.0</td>\n",
       "      <td>0.0</td>\n",
       "      <td>0.0</td>\n",
       "      <td>1.0</td>\n",
       "    </tr>\n",
       "  </tbody>\n",
       "</table>\n",
       "</div>"
      ],
      "text/plain": [
       "        276726  276729  276736  276737  276744\n",
       "276726     1.0     0.0     0.0     0.0     0.0\n",
       "276729     0.0     1.0     0.0     0.0     0.0\n",
       "276736     0.0     0.0     1.0     0.0     0.0\n",
       "276737     0.0     0.0     0.0     1.0     0.0\n",
       "276744     0.0     0.0     0.0     0.0     1.0"
      ]
     },
     "execution_count": 20,
     "metadata": {},
     "output_type": "execute_result"
    }
   ],
   "source": [
    "user_sim_df.iloc[0:5, 0:5]"
   ]
  },
  {
   "cell_type": "code",
   "execution_count": 21,
   "metadata": {
    "colab": {
     "base_uri": "https://localhost:8080/",
     "height": 205
    },
    "id": "o10HMQve5aoj",
    "outputId": "d823982b-2d8b-49b3-e52d-f3d0648d7b6e"
   },
   "outputs": [
    {
     "data": {
      "text/html": [
       "<div>\n",
       "<style scoped>\n",
       "    .dataframe tbody tr th:only-of-type {\n",
       "        vertical-align: middle;\n",
       "    }\n",
       "\n",
       "    .dataframe tbody tr th {\n",
       "        vertical-align: top;\n",
       "    }\n",
       "\n",
       "    .dataframe thead th {\n",
       "        text-align: right;\n",
       "    }\n",
       "</style>\n",
       "<table border=\"1\" class=\"dataframe\">\n",
       "  <thead>\n",
       "    <tr style=\"text-align: right;\">\n",
       "      <th></th>\n",
       "      <th>276726</th>\n",
       "      <th>276729</th>\n",
       "      <th>276736</th>\n",
       "      <th>276737</th>\n",
       "      <th>276744</th>\n",
       "    </tr>\n",
       "  </thead>\n",
       "  <tbody>\n",
       "    <tr>\n",
       "      <th>276726</th>\n",
       "      <td>0.0</td>\n",
       "      <td>0.0</td>\n",
       "      <td>0.0</td>\n",
       "      <td>0.0</td>\n",
       "      <td>0.0</td>\n",
       "    </tr>\n",
       "    <tr>\n",
       "      <th>276729</th>\n",
       "      <td>0.0</td>\n",
       "      <td>0.0</td>\n",
       "      <td>0.0</td>\n",
       "      <td>0.0</td>\n",
       "      <td>0.0</td>\n",
       "    </tr>\n",
       "    <tr>\n",
       "      <th>276736</th>\n",
       "      <td>0.0</td>\n",
       "      <td>0.0</td>\n",
       "      <td>0.0</td>\n",
       "      <td>0.0</td>\n",
       "      <td>0.0</td>\n",
       "    </tr>\n",
       "    <tr>\n",
       "      <th>276737</th>\n",
       "      <td>0.0</td>\n",
       "      <td>0.0</td>\n",
       "      <td>0.0</td>\n",
       "      <td>0.0</td>\n",
       "      <td>0.0</td>\n",
       "    </tr>\n",
       "    <tr>\n",
       "      <th>276744</th>\n",
       "      <td>0.0</td>\n",
       "      <td>0.0</td>\n",
       "      <td>0.0</td>\n",
       "      <td>0.0</td>\n",
       "      <td>0.0</td>\n",
       "    </tr>\n",
       "  </tbody>\n",
       "</table>\n",
       "</div>"
      ],
      "text/plain": [
       "        276726  276729  276736  276737  276744\n",
       "276726     0.0     0.0     0.0     0.0     0.0\n",
       "276729     0.0     0.0     0.0     0.0     0.0\n",
       "276736     0.0     0.0     0.0     0.0     0.0\n",
       "276737     0.0     0.0     0.0     0.0     0.0\n",
       "276744     0.0     0.0     0.0     0.0     0.0"
      ]
     },
     "execution_count": 21,
     "metadata": {},
     "output_type": "execute_result"
    }
   ],
   "source": [
    "np.fill_diagonal(user_sim, 0)\n",
    "user_sim_df.iloc[0:5, 0:5]"
   ]
  },
  {
   "cell_type": "code",
   "execution_count": 22,
   "metadata": {
    "colab": {
     "base_uri": "https://localhost:8080/"
    },
    "id": "WURL7c-f5g88",
    "outputId": "da805fa9-c2cf-4027-c883-d57fc23fa2cb"
   },
   "outputs": [
    {
     "data": {
      "text/plain": [
       "276726    276726\n",
       "276729    276726\n",
       "276736    276726\n",
       "276737    276726\n",
       "276744    276726\n",
       "dtype: int64"
      ]
     },
     "execution_count": 22,
     "metadata": {},
     "output_type": "execute_result"
    }
   ],
   "source": [
    "#5 Similar Users\n",
    "user_sim_df.idxmax(axis=1)[0:5]"
   ]
  }
 ],
 "metadata": {
  "colab": {
   "collapsed_sections": [],
   "name": "book recommendation.ipynb",
   "provenance": []
  },
  "kernelspec": {
   "display_name": "Python 3 (ipykernel)",
   "language": "python",
   "name": "python3"
  },
  "language_info": {
   "codemirror_mode": {
    "name": "ipython",
    "version": 3
   },
   "file_extension": ".py",
   "mimetype": "text/x-python",
   "name": "python",
   "nbconvert_exporter": "python",
   "pygments_lexer": "ipython3",
   "version": "3.11.4"
  }
 },
 "nbformat": 4,
 "nbformat_minor": 1
}
